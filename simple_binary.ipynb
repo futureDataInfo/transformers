{
  "nbformat": 4,
  "nbformat_minor": 0,
  "metadata": {
    "colab": {
      "provenance": [],
      "gpuType": "T4",
      "authorship_tag": "ABX9TyNXZuqh59TP/R4h06mMcYJO",
      "include_colab_link": true
    },
    "kernelspec": {
      "name": "python3",
      "display_name": "Python 3"
    },
    "language_info": {
      "name": "python"
    },
    "accelerator": "GPU"
  },
  "cells": [
    {
      "cell_type": "markdown",
      "metadata": {
        "id": "view-in-github",
        "colab_type": "text"
      },
      "source": [
        "<a href=\"https://colab.research.google.com/github/futureDataInfo/transformers/blob/main/simple_binary.ipynb\" target=\"_parent\"><img src=\"https://colab.research.google.com/assets/colab-badge.svg\" alt=\"Open In Colab\"/></a>"
      ]
    },
    {
      "cell_type": "code",
      "execution_count": 1,
      "metadata": {
        "id": "r4ScMUuqdWYT",
        "colab": {
          "base_uri": "https://localhost:8080/"
        },
        "outputId": "7ca44d5a-bde6-4abb-a1fb-a709dbc9240d"
      },
      "outputs": [
        {
          "output_type": "stream",
          "name": "stdout",
          "text": [
            "Mounted at /content/drive\n"
          ]
        }
      ],
      "source": [
        "import os\n",
        "import numpy as np\n",
        "import matplotlib.pyplot as plt\n",
        "import seaborn as sns\n",
        "import pandas as pd\n",
        "import os\n",
        "import json\n",
        "import re\n",
        "import shutil\n",
        "import xml.etree.ElementTree as ET\n",
        "import math\n",
        "from datetime import datetime\n",
        "import cv2\n",
        "from google.colab import drive\n",
        "drive.mount('/content/drive')\n",
        "\n",
        "import tensorflow as tf\n",
        "from tensorflow import keras\n",
        "from tensorflow.keras import layers\n",
        "from tensorflow.keras.optimizers import RMSprop,Adam\n",
        "from keras.preprocessing import image\n",
        "from tensorflow.keras.preprocessing.image import ImageDataGenerator\n",
        "from tensorflow.keras.layers import Dense, Flatten, Conv2D,\\\n",
        "                MaxPooling2D, Dropout, BatchNormalization,Input, concatenate\n",
        "from keras.models import Model, Sequential\n",
        "from tensorflow.keras.layers import Dropout\n",
        "\n",
        "from sklearn.model_selection import KFold, StratifiedKFold\n",
        "\n",
        "from imblearn.over_sampling import SMOTE\n",
        "from keras.utils.np_utils import to_categorical\n",
        "from sklearn.metrics import confusion_matrix, accuracy_score"
      ]
    },
    {
      "cell_type": "code",
      "source": [
        "data_path=\"/content/drive/My Drive/outputb/\"\n",
        "dir=os.listdir(data_path)\n",
        "resized_path=\"/content/drive/My Drive/resized_456/\"\n",
        "dynamo=pd.read_csv('/content/dynamo_5_11.csv')"
      ],
      "metadata": {
        "id": "-2ua1PPhd3m9"
      },
      "execution_count": 2,
      "outputs": []
    },
    {
      "cell_type": "code",
      "source": [
        "def get_flat_image_keys(ind):\n",
        "    num_images=len(df_image.iloc[ind,1].split(','))\n",
        "    image_lst=[]\n",
        "    for num in range(num_images):\n",
        "        rec=df_image.iloc[ind,1].split(',')[num].split(\":\")[2].split(\"}\")[0][:-1]\n",
        "        if rec.split('/')[0]=='564c509c-acb6-453c-968d-26f807050cf0':\n",
        "            new_rec_1='mita'\n",
        "        elif rec.split('/')[0]=='aa6080d1-3719-4a77-afc8-6569f0a69b91':\n",
        "            new_rec_1='pankaj'\n",
        "        elif rec.split('/')[0]=='e22bc935-c380-4390-8055-9f5b84c9b4aa':\n",
        "            new_rec_1='riju'\n",
        "        elif rec.split('/')[0]=='ec068837-df07-4e96-8de1-b52cc48e8dcd':\n",
        "            new_rec_1='mili'\n",
        "        elif rec.split('/')[0]=='80063d3b-4da2-46c4-a3be-8fc71a915248':\n",
        "            new_rec_1='kaushik'\n",
        "        elif rec.split('/')[0]=='2fabb9fa-e0a1-4291-981c-93970b9d563d':\n",
        "            new_rec_1='shiba'\n",
        "        else:\n",
        "            new_rec_1=rec.split('/')[0]\n",
        "        new_rec=new_rec_1+'-'+rec.split('/')[2]+'-'+rec.split('/')[3]\n",
        "        image_lst.append(new_rec)\n",
        "        idx=df_image.filter(items=[ind], axis=0)['idx'].values[0].astype(int)\n",
        "    return  idx,list(set(image_lst))\n",
        "\n",
        "\n",
        "#### create df_image and df_other from dynamo db\n",
        "\n",
        "dynamo_df=dynamo[~dynamo['agentid'].isin(['Op', 'test','1', 'C', 'mou', 'Mou','S','Jk', 'Ty','2'])]\n",
        "dynamo_df_good=dynamo_df[~dynamo_df['tested_hb'].isna()]\n",
        "dynamo_df_good=dynamo_df_good[(dynamo_df_good['tested_hb']!='11. 3')&(dynamo_df_good['tested_hb']!='90')\\\n",
        "                              &(dynamo_df_good['tested_hb']!='15..0')]\n",
        "df=dynamo_df_good[['imageKey', 'preg', 'sex', 'tested_hb','pid','age']]\n",
        "df.reset_index(inplace=True)\n",
        "df=df.rename(columns={'index':'idx'})\n",
        "df_image=df[['idx','imageKey']]\n",
        "df_other=df[['idx','preg','sex','age','tested_hb']]\n",
        "\n",
        "### create flat image key table\n",
        "\n",
        "image_dict={}\n",
        "for ind in range(len(df_image)):\n",
        "    k,v=get_flat_image_keys(ind)\n",
        "    image_dict[k]=v\n",
        "df_flat_image=pd.DataFrame(\n",
        "              [(k,i) for k,v in image_dict.items() for i in v],\n",
        "                columns=['ind', 'image_keys'])\n",
        "\n",
        "df_flat_image['mod_key']=[df_flat_image['image_keys'][i][:-5] for i in range(len(df_flat_image))]\n",
        "df_dir=pd.DataFrame(zip(dir,[dir[i][:-16] for i in range(len(dir))]),columns=['raw_image','mod_key'])\n",
        "df_final=pd.merge(df_flat_image,df_dir,on='mod_key')\n",
        "df_ready=pd.merge(df_final,df_other,left_on=['ind'],right_on=['idx'])[['raw_image','tested_hb']].reset_index(drop=True)\n",
        "df_ready['tested_hb']=df_ready['tested_hb'].str.replace('. ','.')\n",
        "#df_ready=df_ready[~df_ready['tested_hb'].isin(['13. 7','12. 7','15. 9','12. 6'])]\n",
        "df_ready['tested_hb']=df_ready['tested_hb'].astype(np.float32)\n",
        "df_ready['class']=np.where(df_ready['tested_hb']<=10.5,'anemic','no_anemic')\n",
        "print(df_ready.dtypes)\n",
        "print(len(df_ready))"
      ],
      "metadata": {
        "id": "YyTYXn6Ld4EL",
        "colab": {
          "base_uri": "https://localhost:8080/"
        },
        "outputId": "a0570bf9-d643-4970-e1d3-c984dcc88404"
      },
      "execution_count": 3,
      "outputs": [
        {
          "output_type": "stream",
          "name": "stdout",
          "text": [
            "raw_image     object\n",
            "tested_hb    float32\n",
            "class         object\n",
            "dtype: object\n",
            "732\n"
          ]
        },
        {
          "output_type": "stream",
          "name": "stderr",
          "text": [
            "<ipython-input-3-1604fe8cd5fb>:52: FutureWarning: The default value of regex will change from True to False in a future version.\n",
            "  df_ready['tested_hb']=df_ready['tested_hb'].str.replace('. ','.')\n"
          ]
        }
      ]
    },
    {
      "cell_type": "code",
      "source": [
        "#from sklearn.model_selection import train_test_split\n",
        "#df_train, df_test = train_test_split(df_ready,train_size=0.8, shuffle=True)\n",
        "#print(len(df_test[df_test['class']=='anemic']))"
      ],
      "metadata": {
        "id": "S6HMpQbuk6gv",
        "colab": {
          "base_uri": "https://localhost:8080/"
        },
        "outputId": "2ca5a0c1-6534-42b5-e375-432a29f1c0a8"
      },
      "execution_count": null,
      "outputs": [
        {
          "output_type": "stream",
          "name": "stdout",
          "text": [
            "34\n"
          ]
        }
      ]
    },
    {
      "cell_type": "code",
      "source": [
        "def recreate_train_test(fld):\n",
        "  df=pd.DataFrame()\n",
        "  df['raw_image']=os.listdir(resized_path+fld)\n",
        "  return df\n",
        "\n",
        "df_test=pd.concat([recreate_train_test('validation/anemic'),\\\n",
        "                    recreate_train_test('validation/no_anemic')])\n",
        "df_ready_cp=df_ready.copy()\n",
        "df_test=pd.merge(df_test,df_ready_cp,left_on=['raw_image'],right_on=['raw_image']).sample(frac = 1)\n",
        "\n",
        "df_test['raw_image']=np.where(df_test['class']=='anemic',resized_path+'validation/anemic/'+df_test['raw_image'],\\\n",
        "                                                resized_path+'validation/no_anemic/'+df_test['raw_image'])\n",
        "\n",
        "df_train=pd.concat([recreate_train_test('training/anemic'),\\\n",
        "                    recreate_train_test('training/no_anemic')])\n",
        "df_train=pd.merge(df_train,df_ready_cp,left_on=['raw_image'],right_on=['raw_image']).sample(frac = 1)\n",
        "\n",
        "df_train['raw_image']=np.where(df_train['class']=='anemic',resized_path+'training/anemic/'+df_train['raw_image'],\\\n",
        "                                                resized_path+'training/no_anemic/'+df_train['raw_image'])\n",
        "\n",
        "print(len(df_train))\n",
        "print(len(df_test))"
      ],
      "metadata": {
        "colab": {
          "base_uri": "https://localhost:8080/"
        },
        "id": "8UhFMKbKlD4p",
        "outputId": "84335f2f-a265-4751-a98e-c9287dee1080"
      },
      "execution_count": 4,
      "outputs": [
        {
          "output_type": "stream",
          "name": "stdout",
          "text": [
            "585\n",
            "147\n"
          ]
        }
      ]
    },
    {
      "cell_type": "code",
      "source": [
        "IMAGE_SIZE=456"
      ],
      "metadata": {
        "id": "kk2ISKEQmrGF"
      },
      "execution_count": 5,
      "outputs": []
    },
    {
      "cell_type": "code",
      "source": [
        "### Onetime image resizing and loading\n",
        "\"\"\"\n",
        "df=df_train[df_train['class']=='anemic']\n",
        "target_path=resized_path+'training/anemic/'\n",
        "for i in range(len(df)):\n",
        "  im=cv2.cvtColor(cv2.imread(data_path+df.iloc[(i,0)]), cv2.COLOR_BGR2RGB)\n",
        "  resized_im=cv2.resize(im,(IMAGE_SIZE,IMAGE_SIZE),interpolation = cv2.INTER_LINEAR)\n",
        "  cv2.imwrite(target_path+df.iloc[(i,0)],cv2.cvtColor(resized_im, cv2.COLOR_BGR2RGB))\n",
        "  \"\"\""
      ],
      "metadata": {
        "id": "H-tu97IGd4Vo"
      },
      "execution_count": null,
      "outputs": []
    },
    {
      "cell_type": "code",
      "source": [
        "##print(len(os.listdir(resized_path+'training/anemic/')))\n",
        "#print(len(os.listdir(resized_path+'training/no_anemic/')))\n",
        "#print(len(os.listdir(resized_path+'validation/anemic/')))\n",
        "#print(len(os.listdir(resized_path+'validation/no_anemic/')))"
      ],
      "metadata": {
        "id": "aB5SWJFWPLHV"
      },
      "execution_count": null,
      "outputs": []
    },
    {
      "cell_type": "code",
      "source": [
        "X_train=[]\n",
        "for ind in range(len(df_train)):\n",
        "    im_path=df_train.iloc[(ind,0)]\n",
        "    X_train.append(cv2.cvtColor(cv2.imread(im_path), cv2.COLOR_BGR2RGB))\n",
        "X_test=[]\n",
        "for ind in range(len(df_test)):\n",
        "    im_path=df_test.iloc[(ind,0)]\n",
        "    X_test.append(cv2.cvtColor(cv2.imread(im_path), cv2.COLOR_BGR2RGB))"
      ],
      "metadata": {
        "id": "EWM0iM1E3IPB"
      },
      "execution_count": 6,
      "outputs": []
    },
    {
      "cell_type": "code",
      "source": [
        "y_train=np.where(df_train['class']=='anemic',0,1)\n",
        "y_test=np.where(df_test['class']=='anemic',0,1)\n",
        "smt = SMOTE(random_state=42)\n",
        "X_smote, y_smote = smt.fit_resample(np.array(X_train).reshape(len(X_train),\\\n",
        "                                            IMAGE_SIZE * IMAGE_SIZE * 3), y_train)\n",
        "X_smote=X_smote.reshape(-1,IMAGE_SIZE,IMAGE_SIZE,3)\n",
        "y_smote= to_categorical(y_smote, num_classes = 2)\n",
        "y_test = to_categorical(y_test, num_classes = 2)\n",
        "print(len(X_smote))\n",
        "print(len(y_smote))\n",
        "print(len(X_test))\n",
        "print(len(y_test))"
      ],
      "metadata": {
        "id": "Ro_mZ18NlPkJ",
        "colab": {
          "base_uri": "https://localhost:8080/"
        },
        "outputId": "5366a5f9-8a7d-49a7-ef2d-f84f9f83c063"
      },
      "execution_count": 7,
      "outputs": [
        {
          "output_type": "stream",
          "name": "stdout",
          "text": [
            "936\n",
            "936\n",
            "147\n",
            "147\n"
          ]
        }
      ]
    },
    {
      "cell_type": "code",
      "source": [
        "img_augmentation = Sequential(\n",
        "    [\n",
        "        layers.RandomRotation(factor=0.30),\n",
        "        layers.RandomTranslation(height_factor=0.1, width_factor=0.1),\n",
        "        layers.RandomFlip(),\n",
        "        layers.RandomContrast(factor=0.2),\n",
        "    ],\n",
        "    name=\"img_augmentation\",\n",
        ")"
      ],
      "metadata": {
        "id": "9rhsCB8UlPnu"
      },
      "execution_count": 8,
      "outputs": []
    },
    {
      "cell_type": "code",
      "source": [
        "def build_model(num_classes):\n",
        "    inputs = keras.layers.Input(shape=(IMAGE_SIZE,IMAGE_SIZE,3))\n",
        "    scale_layer = keras.layers.Rescaling(scale=1 / 127.5, offset=-1)\n",
        "    x = scale_layer(inputs)\n",
        "    x = img_augmentation(x)\n",
        "\n",
        "    #x = tf.keras.layers.Conv2D(3, 5, activation='relu')(x)\n",
        "    #print(x.shape)\n",
        "    x = tf.keras.layers.Conv2D(12, 5, activation='relu')(x)\n",
        "    x = tf.keras.layers.Conv2D(12, 5, activation='relu')(x)\n",
        "    x = tf.keras.layers.MaxPooling2D(pool_size=(2, 2), strides=None)(x)\n",
        "    x = tf.keras.layers.BatchNormalization()(x)\n",
        "    #print(x.shape)\n",
        "    x = tf.keras.layers.Conv2D(24, 5, activation='relu')(x)\n",
        "    x = tf.keras.layers.MaxPooling2D(pool_size=(2, 2), strides=None)(x)\n",
        "    x = tf.keras.layers.BatchNormalization()(x)\n",
        "    #print(x.shape)\n",
        "    x = tf.keras.layers.Conv2D(48, 5, activation='relu')(x)\n",
        "    x = tf.keras.layers.MaxPooling2D(pool_size=(2, 2), strides=None)(x)\n",
        "    x = tf.keras.layers.BatchNormalization()(x)\n",
        "    #print(x.shape)\n",
        "    x = tf.keras.layers.Conv2D(72, 5, activation='relu')(x)\n",
        "    x = tf.keras.layers.MaxPooling2D(pool_size=(2, 2), strides=None)(x)\n",
        "    x = tf.keras.layers.BatchNormalization()(x)\n",
        "    #print(x.shape)\n",
        "    x = tf.keras.layers.Conv2D(96, 5, activation='relu')(x)\n",
        "    x = tf.keras.layers.MaxPooling2D(pool_size=(2, 2), strides=None)(x)\n",
        "    x = tf.keras.layers.BatchNormalization()(x)\n",
        "    #print(x.shape)\n",
        "    #x=  keras.layers.Flatten(input_shape=(10*10*96))(x)\n",
        "    x= tf.reshape(x, [-1, 10*10*96])\n",
        "    #x =keras.layers.Dense(1024, activation='relu')(x)\n",
        "    #x =keras.layers.Dense(512, activation='relu')(x)\n",
        "    #x = keras.layers.Dropout(0.25)(x)\n",
        "    #x =keras.layers.Dense(256, activation='relu')(x)\n",
        "    #x = keras.layers.Dropout(0.2)(x)\n",
        "    x =keras.layers.Dense(128, activation='relu')(x)\n",
        "    x = keras.layers.Dropout(0.2)(x)\n",
        "    #x =keras.layers.Dense(64, activation='relu')(x)\n",
        "    #x = keras.layers.Dropout(0.2)(x)\n",
        "    x =keras.layers.Dense(32, activation='relu')(x)\n",
        "    #x = keras.layers.Dropout(0.2)(x)\n",
        "    #x =keras.layers.Dense(16, activation='relu')(x)\n",
        "    #x = keras.layers.Dropout(0.2)(x)\n",
        "\n",
        "    #top_dropout_rate = 0.2\n",
        "    #x = layers.Dropout(top_dropout_rate, name=\"top_dropout\")(x)\n",
        "    outputs = layers.Dense(2, activation=\"sigmoid\")(x)\n",
        "\n",
        "    # Compile\n",
        "    model = tf.keras.Model(inputs, outputs)\n",
        "    #optimizer =tf.keras.optimizers.SGD(learning_rate = 1e-4,\\\n",
        "     #                                  momentum = 0.9,weight_decay=0.04)   \n",
        "    #tf.keras.optimizers.Adam(learning_rate=1e-5)\n",
        "    model.compile(optimizer=\"rmsprop\", loss=\"binary_crossentropy\", metrics=[\"accuracy\"])\n",
        "    return model"
      ],
      "metadata": {
        "id": "DOTEh26ylPq7"
      },
      "execution_count": 28,
      "outputs": []
    },
    {
      "cell_type": "code",
      "source": [
        "model=build_model(2)\n",
        "print(model.summary())"
      ],
      "metadata": {
        "colab": {
          "base_uri": "https://localhost:8080/"
        },
        "id": "dKeCB50AyoJt",
        "outputId": "c1a8d214-f7ec-4ce4-b64d-91b0fd2e4f7e"
      },
      "execution_count": 29,
      "outputs": [
        {
          "output_type": "stream",
          "name": "stdout",
          "text": [
            "Model: \"model_7\"\n",
            "_________________________________________________________________\n",
            " Layer (type)                Output Shape              Param #   \n",
            "=================================================================\n",
            " input_8 (InputLayer)        [(None, 456, 456, 3)]     0         \n",
            "                                                                 \n",
            " rescaling_7 (Rescaling)     (None, 456, 456, 3)       0         \n",
            "                                                                 \n",
            " img_augmentation (Sequentia  (None, 456, 456, 3)      0         \n",
            " l)                                                              \n",
            "                                                                 \n",
            " conv2d_40 (Conv2D)          (None, 452, 452, 12)      912       \n",
            "                                                                 \n",
            " conv2d_41 (Conv2D)          (None, 448, 448, 12)      3612      \n",
            "                                                                 \n",
            " max_pooling2d_33 (MaxPoolin  (None, 224, 224, 12)     0         \n",
            " g2D)                                                            \n",
            "                                                                 \n",
            " batch_normalization_33 (Bat  (None, 224, 224, 12)     48        \n",
            " chNormalization)                                                \n",
            "                                                                 \n",
            " conv2d_42 (Conv2D)          (None, 220, 220, 24)      7224      \n",
            "                                                                 \n",
            " max_pooling2d_34 (MaxPoolin  (None, 110, 110, 24)     0         \n",
            " g2D)                                                            \n",
            "                                                                 \n",
            " batch_normalization_34 (Bat  (None, 110, 110, 24)     96        \n",
            " chNormalization)                                                \n",
            "                                                                 \n",
            " conv2d_43 (Conv2D)          (None, 106, 106, 48)      28848     \n",
            "                                                                 \n",
            " max_pooling2d_35 (MaxPoolin  (None, 53, 53, 48)       0         \n",
            " g2D)                                                            \n",
            "                                                                 \n",
            " batch_normalization_35 (Bat  (None, 53, 53, 48)       192       \n",
            " chNormalization)                                                \n",
            "                                                                 \n",
            " conv2d_44 (Conv2D)          (None, 49, 49, 72)        86472     \n",
            "                                                                 \n",
            " max_pooling2d_36 (MaxPoolin  (None, 24, 24, 72)       0         \n",
            " g2D)                                                            \n",
            "                                                                 \n",
            " batch_normalization_36 (Bat  (None, 24, 24, 72)       288       \n",
            " chNormalization)                                                \n",
            "                                                                 \n",
            " conv2d_45 (Conv2D)          (None, 20, 20, 96)        172896    \n",
            "                                                                 \n",
            " max_pooling2d_37 (MaxPoolin  (None, 10, 10, 96)       0         \n",
            " g2D)                                                            \n",
            "                                                                 \n",
            " batch_normalization_37 (Bat  (None, 10, 10, 96)       384       \n",
            " chNormalization)                                                \n",
            "                                                                 \n",
            " tf.reshape_7 (TFOpLambda)   (None, 9600)              0         \n",
            "                                                                 \n",
            " dense_23 (Dense)            (None, 128)               1228928   \n",
            "                                                                 \n",
            " dropout (Dropout)           (None, 128)               0         \n",
            "                                                                 \n",
            " dense_24 (Dense)            (None, 32)                4128      \n",
            "                                                                 \n",
            " dense_25 (Dense)            (None, 2)                 66        \n",
            "                                                                 \n",
            "=================================================================\n",
            "Total params: 1,534,094\n",
            "Trainable params: 1,533,590\n",
            "Non-trainable params: 504\n",
            "_________________________________________________________________\n",
            "None\n"
          ]
        }
      ]
    },
    {
      "cell_type": "code",
      "source": [
        "from keras.callbacks import ReduceLROnPlateau\n",
        "learning_rate_reduction = ReduceLROnPlateau(monitor='val_accuracy', \n",
        "                                            patience=3, \n",
        "                                            verbose=1, \n",
        "                                            factor=0.5, \n",
        "                                            min_lr=1e-6)"
      ],
      "metadata": {
        "id": "5qVuX1DDyoNX"
      },
      "execution_count": 11,
      "outputs": []
    },
    {
      "cell_type": "code",
      "source": [
        "EPOCHS = 50\n",
        "history = model.fit(X_smote,y_smote,batch_size = 32,\n",
        "                    epochs=EPOCHS,\n",
        "                    validation_data=(np.array(X_test),y_test),\n",
        "                    validation_batch_size=32,\n",
        "                    verbose=1,\n",
        "                    callbacks = [learning_rate_reduction])"
      ],
      "metadata": {
        "colab": {
          "base_uri": "https://localhost:8080/"
        },
        "id": "VaLoPEG0yoQw",
        "outputId": "c60cde74-1ba9-4009-d412-47bcfbb42f4a"
      },
      "execution_count": 30,
      "outputs": [
        {
          "output_type": "stream",
          "name": "stdout",
          "text": [
            "Epoch 1/50\n",
            "30/30 [==============================] - 16s 238ms/step - loss: 0.6872 - accuracy: 0.7222 - val_loss: 0.5885 - val_accuracy: 0.8027 - lr: 0.0010\n",
            "Epoch 2/50\n",
            "30/30 [==============================] - 6s 204ms/step - loss: 0.4921 - accuracy: 0.7885 - val_loss: 0.5081 - val_accuracy: 0.8095 - lr: 0.0010\n",
            "Epoch 3/50\n",
            "30/30 [==============================] - 6s 205ms/step - loss: 0.5236 - accuracy: 0.7650 - val_loss: 0.9257 - val_accuracy: 0.5374 - lr: 0.0010\n",
            "Epoch 4/50\n",
            "30/30 [==============================] - 6s 207ms/step - loss: 0.5208 - accuracy: 0.7639 - val_loss: 0.6605 - val_accuracy: 0.7279 - lr: 0.0010\n",
            "Epoch 5/50\n",
            "30/30 [==============================] - ETA: 0s - loss: 0.5145 - accuracy: 0.7799\n",
            "Epoch 5: ReduceLROnPlateau reducing learning rate to 0.0005000000237487257.\n",
            "30/30 [==============================] - 6s 203ms/step - loss: 0.5145 - accuracy: 0.7799 - val_loss: 1.2456 - val_accuracy: 0.5646 - lr: 0.0010\n",
            "Epoch 6/50\n",
            "30/30 [==============================] - 6s 205ms/step - loss: 0.4306 - accuracy: 0.7949 - val_loss: 0.6792 - val_accuracy: 0.7007 - lr: 5.0000e-04\n",
            "Epoch 7/50\n",
            "30/30 [==============================] - 6s 204ms/step - loss: 0.5269 - accuracy: 0.8088 - val_loss: 0.5907 - val_accuracy: 0.7823 - lr: 5.0000e-04\n",
            "Epoch 8/50\n",
            "30/30 [==============================] - ETA: 0s - loss: 0.4027 - accuracy: 0.7991\n",
            "Epoch 8: ReduceLROnPlateau reducing learning rate to 0.0002500000118743628.\n",
            "30/30 [==============================] - 6s 204ms/step - loss: 0.4027 - accuracy: 0.7991 - val_loss: 0.6026 - val_accuracy: 0.7891 - lr: 5.0000e-04\n",
            "Epoch 9/50\n",
            "30/30 [==============================] - 6s 202ms/step - loss: 0.4199 - accuracy: 0.7991 - val_loss: 0.6054 - val_accuracy: 0.7959 - lr: 2.5000e-04\n",
            "Epoch 10/50\n",
            "30/30 [==============================] - 6s 201ms/step - loss: 0.4148 - accuracy: 0.8120 - val_loss: 0.5905 - val_accuracy: 0.7823 - lr: 2.5000e-04\n",
            "Epoch 11/50\n",
            "30/30 [==============================] - ETA: 0s - loss: 0.3936 - accuracy: 0.8173\n",
            "Epoch 11: ReduceLROnPlateau reducing learning rate to 0.0001250000059371814.\n",
            "30/30 [==============================] - 6s 202ms/step - loss: 0.3936 - accuracy: 0.8173 - val_loss: 0.6283 - val_accuracy: 0.7687 - lr: 2.5000e-04\n",
            "Epoch 12/50\n",
            "30/30 [==============================] - 6s 202ms/step - loss: 0.4020 - accuracy: 0.8184 - val_loss: 0.6192 - val_accuracy: 0.7959 - lr: 1.2500e-04\n",
            "Epoch 13/50\n",
            "30/30 [==============================] - 6s 204ms/step - loss: 0.3912 - accuracy: 0.8194 - val_loss: 0.6588 - val_accuracy: 0.7143 - lr: 1.2500e-04\n",
            "Epoch 14/50\n",
            "30/30 [==============================] - ETA: 0s - loss: 0.3949 - accuracy: 0.8152\n",
            "Epoch 14: ReduceLROnPlateau reducing learning rate to 6.25000029685907e-05.\n",
            "30/30 [==============================] - 6s 200ms/step - loss: 0.3949 - accuracy: 0.8152 - val_loss: 0.8297 - val_accuracy: 0.3741 - lr: 1.2500e-04\n",
            "Epoch 15/50\n",
            "30/30 [==============================] - 6s 205ms/step - loss: 0.3844 - accuracy: 0.8237 - val_loss: 1.0309 - val_accuracy: 0.2857 - lr: 6.2500e-05\n",
            "Epoch 16/50\n",
            "30/30 [==============================] - 6s 201ms/step - loss: 0.3826 - accuracy: 0.8291 - val_loss: 1.5258 - val_accuracy: 0.2109 - lr: 6.2500e-05\n",
            "Epoch 17/50\n",
            "30/30 [==============================] - ETA: 0s - loss: 0.3921 - accuracy: 0.8355\n",
            "Epoch 17: ReduceLROnPlateau reducing learning rate to 3.125000148429535e-05.\n",
            "30/30 [==============================] - 6s 206ms/step - loss: 0.3921 - accuracy: 0.8355 - val_loss: 2.2925 - val_accuracy: 0.1973 - lr: 6.2500e-05\n",
            "Epoch 18/50\n",
            "30/30 [==============================] - 6s 202ms/step - loss: 0.3770 - accuracy: 0.8323 - val_loss: 3.4452 - val_accuracy: 0.1905 - lr: 3.1250e-05\n",
            "Epoch 19/50\n",
            "30/30 [==============================] - 6s 206ms/step - loss: 0.3842 - accuracy: 0.8323 - val_loss: 4.2757 - val_accuracy: 0.1905 - lr: 3.1250e-05\n",
            "Epoch 20/50\n",
            "30/30 [==============================] - ETA: 0s - loss: 0.3770 - accuracy: 0.8280\n",
            "Epoch 20: ReduceLROnPlateau reducing learning rate to 1.5625000742147677e-05.\n",
            "30/30 [==============================] - 6s 204ms/step - loss: 0.3770 - accuracy: 0.8280 - val_loss: 7.3292 - val_accuracy: 0.1905 - lr: 3.1250e-05\n",
            "Epoch 21/50\n",
            "30/30 [==============================] - 6s 204ms/step - loss: 0.3746 - accuracy: 0.8301 - val_loss: 10.6515 - val_accuracy: 0.1905 - lr: 1.5625e-05\n",
            "Epoch 22/50\n",
            "30/30 [==============================] - 6s 203ms/step - loss: 0.3793 - accuracy: 0.8205 - val_loss: 14.8646 - val_accuracy: 0.1905 - lr: 1.5625e-05\n",
            "Epoch 23/50\n",
            "30/30 [==============================] - ETA: 0s - loss: 0.3766 - accuracy: 0.8323\n",
            "Epoch 23: ReduceLROnPlateau reducing learning rate to 7.812500371073838e-06.\n",
            "30/30 [==============================] - 6s 201ms/step - loss: 0.3766 - accuracy: 0.8323 - val_loss: 16.6700 - val_accuracy: 0.1905 - lr: 1.5625e-05\n",
            "Epoch 24/50\n",
            "30/30 [==============================] - 6s 204ms/step - loss: 0.3713 - accuracy: 0.8376 - val_loss: 20.1835 - val_accuracy: 0.1905 - lr: 7.8125e-06\n",
            "Epoch 25/50\n",
            "30/30 [==============================] - 6s 202ms/step - loss: 0.3776 - accuracy: 0.8301 - val_loss: 23.6137 - val_accuracy: 0.1905 - lr: 7.8125e-06\n",
            "Epoch 26/50\n",
            "30/30 [==============================] - ETA: 0s - loss: 0.4216 - accuracy: 0.8248\n",
            "Epoch 26: ReduceLROnPlateau reducing learning rate to 3.906250185536919e-06.\n",
            "30/30 [==============================] - 6s 205ms/step - loss: 0.4216 - accuracy: 0.8248 - val_loss: 24.8691 - val_accuracy: 0.1905 - lr: 7.8125e-06\n",
            "Epoch 27/50\n",
            "30/30 [==============================] - 6s 201ms/step - loss: 0.3665 - accuracy: 0.8344 - val_loss: 27.8164 - val_accuracy: 0.1905 - lr: 3.9063e-06\n",
            "Epoch 28/50\n",
            "30/30 [==============================] - 6s 205ms/step - loss: 0.3782 - accuracy: 0.8397 - val_loss: 28.8568 - val_accuracy: 0.1905 - lr: 3.9063e-06\n",
            "Epoch 29/50\n",
            "30/30 [==============================] - ETA: 0s - loss: 0.4000 - accuracy: 0.8365\n",
            "Epoch 29: ReduceLROnPlateau reducing learning rate to 1.9531250927684596e-06.\n",
            "30/30 [==============================] - 6s 202ms/step - loss: 0.4000 - accuracy: 0.8365 - val_loss: 29.6620 - val_accuracy: 0.1905 - lr: 3.9063e-06\n",
            "Epoch 30/50\n",
            "30/30 [==============================] - 6s 204ms/step - loss: 0.3689 - accuracy: 0.8408 - val_loss: 31.1554 - val_accuracy: 0.1905 - lr: 1.9531e-06\n",
            "Epoch 31/50\n",
            "30/30 [==============================] - 6s 202ms/step - loss: 0.3672 - accuracy: 0.8312 - val_loss: 30.1309 - val_accuracy: 0.1905 - lr: 1.9531e-06\n",
            "Epoch 32/50\n",
            "30/30 [==============================] - ETA: 0s - loss: 0.3620 - accuracy: 0.8333\n",
            "Epoch 32: ReduceLROnPlateau reducing learning rate to 1e-06.\n",
            "30/30 [==============================] - 6s 202ms/step - loss: 0.3620 - accuracy: 0.8333 - val_loss: 31.3216 - val_accuracy: 0.1905 - lr: 1.9531e-06\n",
            "Epoch 33/50\n",
            "30/30 [==============================] - 6s 205ms/step - loss: 0.3809 - accuracy: 0.8355 - val_loss: 32.1977 - val_accuracy: 0.1905 - lr: 1.0000e-06\n",
            "Epoch 34/50\n",
            "30/30 [==============================] - 6s 203ms/step - loss: 0.3659 - accuracy: 0.8397 - val_loss: 33.5577 - val_accuracy: 0.1905 - lr: 1.0000e-06\n",
            "Epoch 35/50\n",
            "30/30 [==============================] - 6s 206ms/step - loss: 0.3900 - accuracy: 0.8312 - val_loss: 33.3123 - val_accuracy: 0.1905 - lr: 1.0000e-06\n",
            "Epoch 36/50\n",
            "30/30 [==============================] - 6s 201ms/step - loss: 0.3717 - accuracy: 0.8429 - val_loss: 33.1195 - val_accuracy: 0.1905 - lr: 1.0000e-06\n",
            "Epoch 37/50\n",
            "30/30 [==============================] - 6s 206ms/step - loss: 0.3797 - accuracy: 0.8323 - val_loss: 32.9079 - val_accuracy: 0.1905 - lr: 1.0000e-06\n",
            "Epoch 38/50\n",
            "30/30 [==============================] - 6s 203ms/step - loss: 0.3740 - accuracy: 0.8376 - val_loss: 32.1119 - val_accuracy: 0.1905 - lr: 1.0000e-06\n",
            "Epoch 39/50\n",
            "30/30 [==============================] - 6s 206ms/step - loss: 0.3706 - accuracy: 0.8387 - val_loss: 31.4351 - val_accuracy: 0.1905 - lr: 1.0000e-06\n",
            "Epoch 40/50\n",
            "30/30 [==============================] - 6s 204ms/step - loss: 0.3785 - accuracy: 0.8365 - val_loss: 30.9100 - val_accuracy: 0.1905 - lr: 1.0000e-06\n",
            "Epoch 41/50\n",
            "30/30 [==============================] - 6s 202ms/step - loss: 0.3660 - accuracy: 0.8323 - val_loss: 31.9998 - val_accuracy: 0.1905 - lr: 1.0000e-06\n",
            "Epoch 42/50\n",
            "30/30 [==============================] - 6s 205ms/step - loss: 0.3757 - accuracy: 0.8323 - val_loss: 32.0594 - val_accuracy: 0.1905 - lr: 1.0000e-06\n",
            "Epoch 43/50\n",
            "30/30 [==============================] - 6s 201ms/step - loss: 0.3681 - accuracy: 0.8365 - val_loss: 29.8047 - val_accuracy: 0.1905 - lr: 1.0000e-06\n",
            "Epoch 44/50\n",
            "30/30 [==============================] - 6s 206ms/step - loss: 0.3785 - accuracy: 0.8312 - val_loss: 29.4507 - val_accuracy: 0.1905 - lr: 1.0000e-06\n",
            "Epoch 45/50\n",
            "30/30 [==============================] - 6s 204ms/step - loss: 0.3693 - accuracy: 0.8323 - val_loss: 29.6091 - val_accuracy: 0.1905 - lr: 1.0000e-06\n",
            "Epoch 46/50\n",
            "30/30 [==============================] - 6s 204ms/step - loss: 0.3677 - accuracy: 0.8344 - val_loss: 30.4872 - val_accuracy: 0.1905 - lr: 1.0000e-06\n",
            "Epoch 47/50\n",
            "30/30 [==============================] - 6s 203ms/step - loss: 0.3572 - accuracy: 0.8408 - val_loss: 32.1980 - val_accuracy: 0.1905 - lr: 1.0000e-06\n",
            "Epoch 48/50\n",
            "30/30 [==============================] - 6s 207ms/step - loss: 0.3762 - accuracy: 0.8355 - val_loss: 30.9381 - val_accuracy: 0.1905 - lr: 1.0000e-06\n",
            "Epoch 49/50\n",
            "30/30 [==============================] - 6s 202ms/step - loss: 0.3936 - accuracy: 0.8269 - val_loss: 31.1318 - val_accuracy: 0.1905 - lr: 1.0000e-06\n",
            "Epoch 50/50\n",
            "30/30 [==============================] - 6s 205ms/step - loss: 0.3792 - accuracy: 0.8259 - val_loss: 33.7207 - val_accuracy: 0.1905 - lr: 1.0000e-06\n"
          ]
        }
      ]
    },
    {
      "cell_type": "code",
      "source": [
        "loss = history.history['loss']\n",
        "val_loss = history.history['val_loss']\n",
        "\n",
        "plt.figure()\n",
        "plt.plot(loss,color = 'green',label = 'Training Loss')\n",
        "plt.plot(val_loss,color = 'red',label = 'Validation Loss')\n",
        "plt.legend()"
      ],
      "metadata": {
        "id": "XEA1ZPPQlPuX",
        "colab": {
          "base_uri": "https://localhost:8080/",
          "height": 448
        },
        "outputId": "a78d4bb6-dcdb-4e25-82a1-49580bd72d3c"
      },
      "execution_count": 31,
      "outputs": [
        {
          "output_type": "execute_result",
          "data": {
            "text/plain": [
              "<matplotlib.legend.Legend at 0x7fa2d8336560>"
            ]
          },
          "metadata": {},
          "execution_count": 31
        },
        {
          "output_type": "display_data",
          "data": {
            "text/plain": [
              "<Figure size 640x480 with 1 Axes>"
            ],
            "image/png": "[encoded data removed]"
          },
          "metadata": {}
        }
      ]
    },
    {
      "cell_type": "code",
      "source": [
        "acc = history.history['accuracy']\n",
        "val_acc = history.history['val_accuracy']\n",
        "\n",
        "plt.figure()\n",
        "plt.plot(acc,color = 'purple',label = 'Training Acuracy')\n",
        "plt.plot(val_acc,color = 'blue',label = 'Validation Accuracy')\n",
        "plt.legend()"
      ],
      "metadata": {
        "id": "ABA8pYjIlPyQ",
        "colab": {
          "base_uri": "https://localhost:8080/",
          "height": 447
        },
        "outputId": "a5f5eb56-cf4e-40da-a74b-3ebd36c92a2b"
      },
      "execution_count": 32,
      "outputs": [
        {
          "output_type": "execute_result",
          "data": {
            "text/plain": [
              "<matplotlib.legend.Legend at 0x7fa2d846beb0>"
            ]
          },
          "metadata": {},
          "execution_count": 32
        },
        {
          "output_type": "display_data",
          "data": {
            "text/plain": [
              "<Figure size 640x480 with 1 Axes>"
            ],
            "image/png": "[encoded data removed]"
          },
          "metadata": {}
        }
      ]
    },
    {
      "cell_type": "code",
      "source": [],
      "metadata": {
        "id": "QVeY1WWvPp79"
      },
      "execution_count": null,
      "outputs": []
    }
  ]
}